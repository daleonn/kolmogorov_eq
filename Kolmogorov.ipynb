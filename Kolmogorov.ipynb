{
 "cells": [
  {
   "cell_type": "code",
   "execution_count": 1,
   "metadata": {},
   "outputs": [],
   "source": [
    "import numpy as np\n",
    "from scipy.stats import poisson\n",
    "import matplotlib.pyplot as plt\n",
    "import random"
   ]
  },
  {
   "cell_type": "markdown",
   "metadata": {},
   "source": [
    "### utils"
   ]
  },
  {
   "cell_type": "code",
   "execution_count": 2,
   "metadata": {},
   "outputs": [],
   "source": [
    "def rk_ode_int(f, x0, y0, h, a, b, c):   \n",
    "    k = list()\n",
    "    for i in range(a.shape[0]):\n",
    "        k.append(\n",
    "            f(x0 + c[i] * h, y0 + h * sum(a[i, j] * k[j] for j in range(i)))\n",
    "        )\n",
    "    y1 = y0 + h * sum(b[i] * k[i] for i in range(a.shape[0]))\n",
    "    \n",
    "    return y1\n",
    "\n",
    "def get_poisson_randint_between(low_bound, high_bound, a):\n",
    "    while True:\n",
    "        num = poisson(a).rvs()\n",
    "        if low_bound <= num <= high_bound:\n",
    "            return num"
   ]
  },
  {
   "cell_type": "markdown",
   "metadata": {},
   "source": [
    "# Modeling of Poisson point process for populations\n",
    "\n",
    "We will consider next system of ordinary differential equations:\n",
    "$$ \n",
    "\\begin{cases}\n",
    "\\frac{d P_0(t)}{d t} = \\mu_{1} P_1(t) - (\\lambda_0 + y_{\\lambda_0}(t)) P_0(t) \\\\\n",
    "\\vdots \\\\\n",
    "\\frac{d P_i(t)}{d t} = \\mu_{i+1} P_{i+1}(t) +  (\\lambda_{i-1} + y_{\\lambda_{i-1}}(t)) P_{i-1}(t) \n",
    "    - (\\lambda_{i} + y_{\\lambda_{i}}(t) + \\mu_{i})  P_{i}(t) \\\\\n",
    "\\vdots \\\\\n",
    "\\frac{d P_n(t)}{d t} = (\\lambda_{n-1} + y_{\\lambda_{n-1}}(t)) P_{n-1}(t) - \\mu_n  P_{n}(t)\n",
    "\\end{cases}\n",
    "$$\n",
    "where:\n",
    "* $ P_i(t) $ - probability of number of population equivalent to i\n",
    "* $ \\lambda_i $ - linear apploximation of transient probabilities for population increase in small time step\n",
    "*     $ \\mu_i $ - linear apploximation of transient probabilities for population decrease in small time step\n",
    "* $ y_{\\lambda_{i}}(t) $ - external conditions, that influence on population increase.\n",
    "  \n",
    "  \n",
    "The task is to find and plot solution"
   ]
  },
  {
   "cell_type": "markdown",
   "metadata": {},
   "source": [
    "## 1. Model initialization"
   ]
  },
  {
   "cell_type": "markdown",
   "metadata": {},
   "source": [
    "### Parameters definitions"
   ]
  },
  {
   "cell_type": "code",
   "execution_count": 3,
   "metadata": {},
   "outputs": [],
   "source": [
    "n = 21\n",
    "interval = (0, 80)\n",
    "\n",
    "lambd = [0, ] + [2 + 0.01*i for i in range(1, n-1)] + [0, ]\n",
    "mu = [0, ] + [0.3 + 0.05*i for i in range(1, n-1)] + [0.4, ]\n",
    "\n",
    "y = [lambda t: 0, ] + [lambda t: np.sin(t) for _ in range(1, n-1)] + [lambda t: 0, ]\n",
    "# y = [lambda t: 0 for _ in range(n)]"
   ]
  },
  {
   "cell_type": "markdown",
   "metadata": {},
   "source": [
    "## 2. Finding numerical solution\n",
    "Using Runge-Kutta numerical method"
   ]
  },
  {
   "cell_type": "code",
   "execution_count": 4,
   "metadata": {},
   "outputs": [],
   "source": [
    "p_beg = np.matrix([poisson(4).pmf(range(n)), ]).T"
   ]
  },
  {
   "cell_type": "markdown",
   "metadata": {},
   "source": [
    "### Building of Kolmogorov forward equations"
   ]
  },
  {
   "cell_type": "code",
   "execution_count": 5,
   "metadata": {},
   "outputs": [],
   "source": [
    "def F(t, p):\n",
    "    vector_components = list()\n",
    "    \n",
    "    vector_components.append(mu[1] * p[1, 0] - (lambd[0] + y[0](t)) * p[0, 0])\n",
    "    \n",
    "    for i in range(1, p.shape[0] - 1):\n",
    "        vector_components.append(\n",
    "            mu[i+1] * p[i+1, 0] \n",
    "            + (lambd[i-1] + y[i-1](t)) * p[i-1, 0] \n",
    "            - (lambd[i] + y[i](t) + mu[i]) * p[i, 0]\n",
    "        )\n",
    "        \n",
    "    vector_components.append((lambd[-2] + y[-2](t)) * p[-2, 0] - mu[-1] * p[-1, 0])\n",
    "    \n",
    "    return np.matrix([vector_components, ]).T"
   ]
  },
  {
   "cell_type": "markdown",
   "metadata": {},
   "source": [
    "### Defining parameters of numerical solution"
   ]
  },
  {
   "cell_type": "code",
   "execution_count": 6,
   "metadata": {},
   "outputs": [],
   "source": [
    "h = 10e-3\n",
    "\n",
    "a = np.matrix([\n",
    "    [  0, 0],\n",
    "    [1/2, 0]\n",
    "])\n",
    "b = [0, 1]\n",
    "c = [0, ] + [sum(a[i, j] for j in range(i)) for i in range(1, a.shape[0])]"
   ]
  },
  {
   "cell_type": "markdown",
   "metadata": {},
   "source": [
    "### Solving"
   ]
  },
  {
   "cell_type": "code",
   "execution_count": 7,
   "metadata": {},
   "outputs": [],
   "source": [
    "numerical_t = np.arange(*interval, h)\n",
    "numerical_p = [p_beg, ]\n",
    "\n",
    "for t_i in numerical_t[:-1]:\n",
    "    p_i = numerical_p[-1]\n",
    "    numerical_p.append(rk_ode_int(F, t_i, p_i, h, a, b, c))\n",
    "    \n",
    "# Now numerical_p is list of solutions in different time moments\n",
    "# Lets convert it to list of values it time moments of each solution component\n",
    "\n",
    "numerical_p = [p_i.T.tolist()[0] for p_i in numerical_p]\n",
    "numerical_p = list(zip(*numerical_p))"
   ]
  },
  {
   "cell_type": "markdown",
   "metadata": {},
   "source": [
    "## 3. Finding simulation solution"
   ]
  },
  {
   "cell_type": "markdown",
   "metadata": {},
   "source": [
    "### Building experiment scheme"
   ]
  },
  {
   "cell_type": "code",
   "execution_count": 8,
   "metadata": {},
   "outputs": [],
   "source": [
    "def trial(beg_population_num, t):\n",
    "    steps = (next_t - prev_t for next_t, prev_t in zip(t[1:], t[:-1]))\n",
    "    \n",
    "    population_num = [beg_population_num, ]\n",
    "    for h, t_i in zip(steps, t[1:]):\n",
    "        prob_increase = (lambd[population_num[-1]] + y[population_num[-1]](t_i)) * h\n",
    "        prob_decrease = mu[population_num[-1]] * h\n",
    "        prob_constancy = 1 - prob_increase - prob_decrease\n",
    "        \n",
    "        population_num_shift = random.choices(\n",
    "            [-1, 0, 1], weights=[prob_decrease, prob_constancy, prob_increase]\n",
    "        )[0]\n",
    "        \n",
    "        population_num.append(population_num[-1] + population_num_shift)\n",
    "    \n",
    "    return population_num"
   ]
  },
  {
   "cell_type": "markdown",
   "metadata": {},
   "source": [
    "### Defining parameters of simulation solution"
   ]
  },
  {
   "cell_type": "code",
   "execution_count": 9,
   "metadata": {},
   "outputs": [],
   "source": [
    "h = 10e-2\n",
    "trials_num = 1000"
   ]
  },
  {
   "cell_type": "markdown",
   "metadata": {},
   "source": [
    "### Solving"
   ]
  },
  {
   "cell_type": "code",
   "execution_count": 10,
   "metadata": {},
   "outputs": [],
   "source": [
    "simulation_t = np.arange(*interval, h)\n",
    "\n",
    "randint = lambda : get_poisson_randint_between(0, n, 4)\n",
    "results = [trial(randint(), simulation_t) for _ in range(trials_num)]\n",
    "\n",
    "simulation_p = [[p_in_t.count(i)/trials_num for p_in_t in zip(*results)] for i in range(n)]"
   ]
  },
  {
   "cell_type": "markdown",
   "metadata": {},
   "source": [
    "## 4. Plot solutions"
   ]
  },
  {
   "cell_type": "markdown",
   "metadata": {},
   "source": [
    "### Graphs of numerical solution"
   ]
  },
  {
   "cell_type": "code",
   "execution_count": 11,
   "metadata": {},
   "outputs": [
    {
     "data": {
      "image/png": "[encoded data removed]",
      "text/plain": [
       "<Figure size 432x288 with 1 Axes>"
      ]
     },
     "metadata": {
      "needs_background": "light"
     },
     "output_type": "display_data"
    }
   ],
   "source": [
    "for i in range(0, n, n//4):\n",
    "    plt.plot(numerical_t, numerical_p[i], label=f'P{i}')\n",
    "    \n",
    "plt.legend()\n",
    "plt.show()"
   ]
  },
  {
   "cell_type": "markdown",
   "metadata": {},
   "source": [
    "### Graphs of simulation solution"
   ]
  },
  {
   "cell_type": "code",
   "execution_count": 12,
   "metadata": {},
   "outputs": [
    {
     "data": {
      "image/png": "[encoded data removed]",
      "text/plain": [
       "<Figure size 432x288 with 1 Axes>"
      ]
     },
     "metadata": {
      "needs_background": "light"
     },
     "output_type": "display_data"
    }
   ],
   "source": [
    "for i in range(0, n, n//4):\n",
    "    plt.plot(simulation_t, simulation_p[i], label=f'P{i}')\n",
    "    \n",
    "plt.legend()\n",
    "plt.show()"
   ]
  },
  {
   "cell_type": "markdown",
   "metadata": {},
   "source": [
    "---"
   ]
  }
 ],
 "metadata": {
  "kernelspec": {
   "display_name": "base",
   "language": "python",
   "name": "base"
  },
  "language_info": {
   "codemirror_mode": {
    "name": "ipython",
    "version": 3
   },
   "file_extension": ".py",
   "mimetype": "text/x-python",
   "name": "python",
   "nbconvert_exporter": "python",
   "pygments_lexer": "ipython3",
   "version": "3.7.2"
  }
 },
 "nbformat": 4,
 "nbformat_minor": 2
}
